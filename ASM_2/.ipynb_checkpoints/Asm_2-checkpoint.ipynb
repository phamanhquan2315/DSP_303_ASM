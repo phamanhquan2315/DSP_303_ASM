{
 "cells": [
  {
   "cell_type": "markdown",
   "metadata": {
    "button": false,
    "id": "SzPE54CYM1kJ",
    "new_sheet": false,
    "run_control": {
     "read_only": false
    }
   },
   "source": [
    "<h1 align=center><font size = 10> ASM 2 </font></h1>"
   ]
  },
  {
   "cell_type": "markdown",
   "metadata": {
    "id": "dzJFrqwyM1kP"
   },
   "source": [
    "# Bài toán"
   ]
  },
  {
   "cell_type": "markdown",
   "metadata": {
    "button": false,
    "id": "XPfbiVLfM1kK",
    "new_sheet": false,
    "run_control": {
     "read_only": false
    }
   },
   "source": [
    "Trong notebook này, chúng ta sẽ thực hành tất cả các thuật toán phân loại mà chúng ta đã học trong khóa này.\n",
    "\n",
    "Hãy tải tập dữ liệu bằng thư viện Pandas và áp dụng các thuật toán sau rồi tìm ra thuật toán tốt nhất cho tập dữ liệu cụ thể này bằng các phương pháp đánh giá độ chính xác."
   ]
  },
  {
   "cell_type": "markdown",
   "metadata": {
    "id": "WFl47FBcM1kQ"
   },
   "source": [
    "Kiểu của tập dữ liệu và bài toán là một phân loại nhị phân có giám sát cổ điển. Với một số yếu tố có các đặc điểm (đặc trưng) nhất định, chúng ta cần xây dựng mô hình ML để xác định những người bị ảnh hưởng bởi bệnh tiểu đường loại 2.\n",
    "\n",
    "Để giải quyết vấn đề, chúng ta sẽ phải phân tích dữ liệu, thực hiện bất kỳ chuyển đổi và chuẩn hóa cần thiết nào, áp dụng thuật toán học máy, huấn luyện mô hình, kiểm tra chất lượng của mô hình đã huấn luyện và lặp lại với các thuật toán khác cho đến khi tìm ra chất lượng cao nhất cho kiểu của tập dữ liệu."
   ]
  },
  {
   "cell_type": "markdown",
   "metadata": {
    "id": "1UzFsK9VIHW3"
   },
   "source": [
    "# Pipeline \n",
    "\n",
    "1. Đọc dữ liệu.\n",
    "\n",
    "3. Trực quan dữ liệu.\n",
    "\n",
    "4. Tiền xử lý dữ liệu.\n",
    "\n",
    "5. Xây dựng mô hình phân loại và đánh giá chất lượng.\n",
    "\n",
    "  - KNN\n",
    "\n",
    "  - Decision Tree\n",
    "\n",
    "  - SVM\n",
    "\n",
    "  - Logistic Regression\n",
    "\n",
    "  - Neural Network\n",
    "\n",
    "6. Xây dựng mô hình phân loại bằng Ensemble và đánh giá chất lượng.\n",
    "\n",
    "  - Soft voting\n",
    "\n",
    "  - Hard voting\n",
    "\n",
    "7. Đưa ra kết quả tổng hợp chất lượng mô hình phân loại của tất cả thuật toán."
   ]
  },
  {
   "cell_type": "markdown",
   "metadata": {
    "button": false,
    "id": "ZAL75IefM1kO",
    "new_sheet": false,
    "run_control": {
     "read_only": false
    }
   },
   "source": [
    "# Tập dữ liệu"
   ]
  },
  {
   "cell_type": "markdown",
   "metadata": {
    "button": false,
    "id": "yrPdRO--M1kO",
    "new_sheet": false,
    "run_control": {
     "read_only": false
    }
   },
   "source": [
    "Pima là một tộc người Mỹ bản địa sống ở Arizona. Yếu tố di truyền cho phép nhóm người này có thể tồn tại được với chế độ ăn nghèo carbohydrate trong nhiều năm. Những năm gần đây, do sự chuyển đổi đột ngột từ cây nông nghiệp truyền thống sang thực phẩm chế biến cùng với sự suy giảm hoạt động thể chất đã khiến tỷ lệ mắc bệnh tiểu đường loại 2 cao nhất, cho nên nó trở thành đối tượng của nhiều nghiên cứu.\n",
    "\n",
    "Tập dữ liệu gồm dữ liệu từ 768 phụ nữ với 8 đặc điểm, cụ thể:\n",
    "\n",
    "- Số lần mang thai\n",
    "- Nồng độ đường huyết sau 2 giờ trong xét nghiệm dung nạp glucose đường uống\n",
    "- Huyết áp tâm trương (mm Hg)\n",
    "- Độ dày của nếp gấp da (mm)\n",
    "- Insulin huyết thanh trong 2 giờ (mu U/ml)\n",
    "- Chỉ số BMI (trọng lượng tính bằng kg/(chiều cao tính bằng m)^2)\n",
    "- Chức năng phả hệ bệnh tiểu đường\n",
    "- Tuổi (năm)\n",
    "- Cột cuối cùng của tập dữ liệu cho biết một người có bị chẩn đoán mắc bệnh tiểu đường (1) hay không (0)"
   ]
  },
  {
   "cell_type": "markdown",
   "metadata": {
    "id": "4P5dHdrDc-Bx"
   },
   "source": [
    "# Thư viện cần thiết"
   ]
  },
  {
   "cell_type": "code",
   "execution_count": 1,
   "metadata": {
    "button": false,
    "id": "vcBmcLcqM1kL",
    "new_sheet": false,
    "run_control": {
     "read_only": false
    }
   },
   "outputs": [],
   "source": [
    "import matplotlib.pyplot as plt\n",
    "from matplotlib.ticker import NullFormatter\n",
    "import pandas as pd\n",
    "import numpy as np\n",
    "import matplotlib.ticker as ticker\n",
    "from sklearn import preprocessing\n",
    "import seaborn as sns\n",
    "%matplotlib inline"
   ]
  },
  {
   "cell_type": "markdown",
   "metadata": {
    "button": false,
    "id": "Diy5tSZ7M1kQ",
    "new_sheet": false,
    "run_control": {
     "read_only": false
    }
   },
   "source": [
    "# Load dữ liệu từ file CSV  "
   ]
  },
  {
   "cell_type": "markdown",
   "metadata": {
    "id": "qdIctwmZM1kR"
   },
   "source": [
    "### Task 1: Đọc dữ liệu \n",
    "\n",
    "Do file không chứa tên cột/đặc trưng, do đó hãy thêm tên cột bằng cách sử dụng mô tả từ trang web tập dữ liệu gốc:\n",
    "\n",
    "Tên cột lần lượt là: \"NumTimesPrg\", \"PlGlcConc\", \"BloodP\", \"SkinThick\", \"TwoHourSerIns\", \"BMI\", \"DiPedFunc\", \"Age\", \"HasDiabetes\""
   ]
  },
  {
   "cell_type": "code",
   "execution_count": 2,
   "metadata": {
    "button": false,
    "id": "K-TmhZ8vM1kS",
    "new_sheet": false,
    "run_control": {
     "read_only": false
    }
   },
   "outputs": [
    {
     "data": {
      "text/html": [
       "<div>\n",
       "<style scoped>\n",
       "    .dataframe tbody tr th:only-of-type {\n",
       "        vertical-align: middle;\n",
       "    }\n",
       "\n",
       "    .dataframe tbody tr th {\n",
       "        vertical-align: top;\n",
       "    }\n",
       "\n",
       "    .dataframe thead th {\n",
       "        text-align: right;\n",
       "    }\n",
       "</style>\n",
       "<table border=\"1\" class=\"dataframe\">\n",
       "  <thead>\n",
       "    <tr style=\"text-align: right;\">\n",
       "      <th></th>\n",
       "      <th>NumTimesPrg</th>\n",
       "      <th>PlGlcConc</th>\n",
       "      <th>BloodP</th>\n",
       "      <th>SkinThick</th>\n",
       "      <th>TwoHourSerIns</th>\n",
       "      <th>BMI</th>\n",
       "      <th>DiPedFunc</th>\n",
       "      <th>Age</th>\n",
       "      <th>HasDiabetes</th>\n",
       "    </tr>\n",
       "  </thead>\n",
       "  <tbody>\n",
       "    <tr>\n",
       "      <th>0</th>\n",
       "      <td>6</td>\n",
       "      <td>148</td>\n",
       "      <td>72</td>\n",
       "      <td>35</td>\n",
       "      <td>0</td>\n",
       "      <td>33.6</td>\n",
       "      <td>0.627</td>\n",
       "      <td>50</td>\n",
       "      <td>1</td>\n",
       "    </tr>\n",
       "    <tr>\n",
       "      <th>1</th>\n",
       "      <td>1</td>\n",
       "      <td>85</td>\n",
       "      <td>66</td>\n",
       "      <td>29</td>\n",
       "      <td>0</td>\n",
       "      <td>26.6</td>\n",
       "      <td>0.351</td>\n",
       "      <td>31</td>\n",
       "      <td>0</td>\n",
       "    </tr>\n",
       "    <tr>\n",
       "      <th>2</th>\n",
       "      <td>8</td>\n",
       "      <td>183</td>\n",
       "      <td>64</td>\n",
       "      <td>0</td>\n",
       "      <td>0</td>\n",
       "      <td>23.3</td>\n",
       "      <td>0.672</td>\n",
       "      <td>32</td>\n",
       "      <td>1</td>\n",
       "    </tr>\n",
       "    <tr>\n",
       "      <th>3</th>\n",
       "      <td>1</td>\n",
       "      <td>89</td>\n",
       "      <td>66</td>\n",
       "      <td>23</td>\n",
       "      <td>94</td>\n",
       "      <td>28.1</td>\n",
       "      <td>0.167</td>\n",
       "      <td>21</td>\n",
       "      <td>0</td>\n",
       "    </tr>\n",
       "    <tr>\n",
       "      <th>4</th>\n",
       "      <td>0</td>\n",
       "      <td>137</td>\n",
       "      <td>40</td>\n",
       "      <td>35</td>\n",
       "      <td>168</td>\n",
       "      <td>43.1</td>\n",
       "      <td>2.288</td>\n",
       "      <td>33</td>\n",
       "      <td>1</td>\n",
       "    </tr>\n",
       "    <tr>\n",
       "      <th>...</th>\n",
       "      <td>...</td>\n",
       "      <td>...</td>\n",
       "      <td>...</td>\n",
       "      <td>...</td>\n",
       "      <td>...</td>\n",
       "      <td>...</td>\n",
       "      <td>...</td>\n",
       "      <td>...</td>\n",
       "      <td>...</td>\n",
       "    </tr>\n",
       "    <tr>\n",
       "      <th>763</th>\n",
       "      <td>10</td>\n",
       "      <td>101</td>\n",
       "      <td>76</td>\n",
       "      <td>48</td>\n",
       "      <td>180</td>\n",
       "      <td>32.9</td>\n",
       "      <td>0.171</td>\n",
       "      <td>63</td>\n",
       "      <td>0</td>\n",
       "    </tr>\n",
       "    <tr>\n",
       "      <th>764</th>\n",
       "      <td>2</td>\n",
       "      <td>122</td>\n",
       "      <td>70</td>\n",
       "      <td>27</td>\n",
       "      <td>0</td>\n",
       "      <td>36.8</td>\n",
       "      <td>0.340</td>\n",
       "      <td>27</td>\n",
       "      <td>0</td>\n",
       "    </tr>\n",
       "    <tr>\n",
       "      <th>765</th>\n",
       "      <td>5</td>\n",
       "      <td>121</td>\n",
       "      <td>72</td>\n",
       "      <td>23</td>\n",
       "      <td>112</td>\n",
       "      <td>26.2</td>\n",
       "      <td>0.245</td>\n",
       "      <td>30</td>\n",
       "      <td>0</td>\n",
       "    </tr>\n",
       "    <tr>\n",
       "      <th>766</th>\n",
       "      <td>1</td>\n",
       "      <td>126</td>\n",
       "      <td>60</td>\n",
       "      <td>0</td>\n",
       "      <td>0</td>\n",
       "      <td>30.1</td>\n",
       "      <td>0.349</td>\n",
       "      <td>47</td>\n",
       "      <td>1</td>\n",
       "    </tr>\n",
       "    <tr>\n",
       "      <th>767</th>\n",
       "      <td>1</td>\n",
       "      <td>93</td>\n",
       "      <td>70</td>\n",
       "      <td>31</td>\n",
       "      <td>0</td>\n",
       "      <td>30.4</td>\n",
       "      <td>0.315</td>\n",
       "      <td>23</td>\n",
       "      <td>0</td>\n",
       "    </tr>\n",
       "  </tbody>\n",
       "</table>\n",
       "<p>768 rows × 9 columns</p>\n",
       "</div>"
      ],
      "text/plain": [
       "     NumTimesPrg  PlGlcConc  BloodP  SkinThick  TwoHourSerIns   BMI  \\\n",
       "0              6        148      72         35              0  33.6   \n",
       "1              1         85      66         29              0  26.6   \n",
       "2              8        183      64          0              0  23.3   \n",
       "3              1         89      66         23             94  28.1   \n",
       "4              0        137      40         35            168  43.1   \n",
       "..           ...        ...     ...        ...            ...   ...   \n",
       "763           10        101      76         48            180  32.9   \n",
       "764            2        122      70         27              0  36.8   \n",
       "765            5        121      72         23            112  26.2   \n",
       "766            1        126      60          0              0  30.1   \n",
       "767            1         93      70         31              0  30.4   \n",
       "\n",
       "     DiPedFunc  Age  HasDiabetes  \n",
       "0        0.627   50            1  \n",
       "1        0.351   31            0  \n",
       "2        0.672   32            1  \n",
       "3        0.167   21            0  \n",
       "4        2.288   33            1  \n",
       "..         ...  ...          ...  \n",
       "763      0.171   63            0  \n",
       "764      0.340   27            0  \n",
       "765      0.245   30            0  \n",
       "766      0.349   47            1  \n",
       "767      0.315   23            0  \n",
       "\n",
       "[768 rows x 9 columns]"
      ]
     },
     "execution_count": 2,
     "metadata": {},
     "output_type": "execute_result"
    }
   ],
   "source": [
    "pima_df = pd.read_csv(\"pima-indians-diabetes.csv\",header= None)\n",
    "pima_df.columns = [\"NumTimesPrg\", \"PlGlcConc\", \"BloodP\", \"SkinThick\", \"TwoHourSerIns\", \"BMI\", \"DiPedFunc\", \"Age\", \"HasDiabetes\"]\n",
    "pima_df\n"
   ]
  },
  {
   "cell_type": "markdown",
   "metadata": {
    "button": false,
    "id": "a02T2r1XM1kY",
    "new_sheet": false,
    "run_control": {
     "read_only": false
    }
   },
   "source": [
    "# Trực quan hóa và tiền xử lý dữ liệu\n",
    "\n"
   ]
  },
  {
   "cell_type": "markdown",
   "metadata": {
    "id": "yFAPRH0WBgow"
   },
   "source": [
    "## Ma trận tương quan dữ liệu"
   ]
  },
  {
   "cell_type": "markdown",
   "metadata": {
    "id": "Gny1Ex0wJ7d3"
   },
   "source": [
    "Ma trận tương quan là một công cụ quan trọng để hiểu mối tương quan giữa các đặc điểm khác nhau. Các giá trị sẽ nằm trong khoảng từ -1 đến 1; giá trị càng gần 1 thì càng có giữa hai đặc điểm càng có mối tương quan tốt."
   ]
  },
  {
   "cell_type": "markdown",
   "metadata": {
    "button": false,
    "id": "WyisS4NVM1kZ",
    "new_sheet": false,
    "run_control": {
     "read_only": false
    }
   },
   "source": [
    "### Task 2: Tính ma trận tương quan cho tập dữ liệu."
   ]
  },
  {
   "cell_type": "code",
   "execution_count": 3,
   "metadata": {
    "button": false,
    "id": "vymkxfN8M1kZ",
    "new_sheet": false,
    "run_control": {
     "read_only": false
    }
   },
   "outputs": [
    {
     "data": {
      "text/html": [
       "<div>\n",
       "<style scoped>\n",
       "    .dataframe tbody tr th:only-of-type {\n",
       "        vertical-align: middle;\n",
       "    }\n",
       "\n",
       "    .dataframe tbody tr th {\n",
       "        vertical-align: top;\n",
       "    }\n",
       "\n",
       "    .dataframe thead th {\n",
       "        text-align: right;\n",
       "    }\n",
       "</style>\n",
       "<table border=\"1\" class=\"dataframe\">\n",
       "  <thead>\n",
       "    <tr style=\"text-align: right;\">\n",
       "      <th></th>\n",
       "      <th>NumTimesPrg</th>\n",
       "      <th>PlGlcConc</th>\n",
       "      <th>BloodP</th>\n",
       "      <th>SkinThick</th>\n",
       "      <th>TwoHourSerIns</th>\n",
       "      <th>BMI</th>\n",
       "      <th>DiPedFunc</th>\n",
       "      <th>Age</th>\n",
       "      <th>HasDiabetes</th>\n",
       "    </tr>\n",
       "  </thead>\n",
       "  <tbody>\n",
       "    <tr>\n",
       "      <th>NumTimesPrg</th>\n",
       "      <td>1.000000</td>\n",
       "      <td>0.129459</td>\n",
       "      <td>0.141282</td>\n",
       "      <td>-0.081672</td>\n",
       "      <td>-0.073535</td>\n",
       "      <td>0.017683</td>\n",
       "      <td>-0.033523</td>\n",
       "      <td>0.544341</td>\n",
       "      <td>0.221898</td>\n",
       "    </tr>\n",
       "    <tr>\n",
       "      <th>PlGlcConc</th>\n",
       "      <td>0.129459</td>\n",
       "      <td>1.000000</td>\n",
       "      <td>0.152590</td>\n",
       "      <td>0.057328</td>\n",
       "      <td>0.331357</td>\n",
       "      <td>0.221071</td>\n",
       "      <td>0.137337</td>\n",
       "      <td>0.263514</td>\n",
       "      <td>0.466581</td>\n",
       "    </tr>\n",
       "    <tr>\n",
       "      <th>BloodP</th>\n",
       "      <td>0.141282</td>\n",
       "      <td>0.152590</td>\n",
       "      <td>1.000000</td>\n",
       "      <td>0.207371</td>\n",
       "      <td>0.088933</td>\n",
       "      <td>0.281805</td>\n",
       "      <td>0.041265</td>\n",
       "      <td>0.239528</td>\n",
       "      <td>0.065068</td>\n",
       "    </tr>\n",
       "    <tr>\n",
       "      <th>SkinThick</th>\n",
       "      <td>-0.081672</td>\n",
       "      <td>0.057328</td>\n",
       "      <td>0.207371</td>\n",
       "      <td>1.000000</td>\n",
       "      <td>0.436783</td>\n",
       "      <td>0.392573</td>\n",
       "      <td>0.183928</td>\n",
       "      <td>-0.113970</td>\n",
       "      <td>0.074752</td>\n",
       "    </tr>\n",
       "    <tr>\n",
       "      <th>TwoHourSerIns</th>\n",
       "      <td>-0.073535</td>\n",
       "      <td>0.331357</td>\n",
       "      <td>0.088933</td>\n",
       "      <td>0.436783</td>\n",
       "      <td>1.000000</td>\n",
       "      <td>0.197859</td>\n",
       "      <td>0.185071</td>\n",
       "      <td>-0.042163</td>\n",
       "      <td>0.130548</td>\n",
       "    </tr>\n",
       "    <tr>\n",
       "      <th>BMI</th>\n",
       "      <td>0.017683</td>\n",
       "      <td>0.221071</td>\n",
       "      <td>0.281805</td>\n",
       "      <td>0.392573</td>\n",
       "      <td>0.197859</td>\n",
       "      <td>1.000000</td>\n",
       "      <td>0.140647</td>\n",
       "      <td>0.036242</td>\n",
       "      <td>0.292695</td>\n",
       "    </tr>\n",
       "    <tr>\n",
       "      <th>DiPedFunc</th>\n",
       "      <td>-0.033523</td>\n",
       "      <td>0.137337</td>\n",
       "      <td>0.041265</td>\n",
       "      <td>0.183928</td>\n",
       "      <td>0.185071</td>\n",
       "      <td>0.140647</td>\n",
       "      <td>1.000000</td>\n",
       "      <td>0.033561</td>\n",
       "      <td>0.173844</td>\n",
       "    </tr>\n",
       "    <tr>\n",
       "      <th>Age</th>\n",
       "      <td>0.544341</td>\n",
       "      <td>0.263514</td>\n",
       "      <td>0.239528</td>\n",
       "      <td>-0.113970</td>\n",
       "      <td>-0.042163</td>\n",
       "      <td>0.036242</td>\n",
       "      <td>0.033561</td>\n",
       "      <td>1.000000</td>\n",
       "      <td>0.238356</td>\n",
       "    </tr>\n",
       "    <tr>\n",
       "      <th>HasDiabetes</th>\n",
       "      <td>0.221898</td>\n",
       "      <td>0.466581</td>\n",
       "      <td>0.065068</td>\n",
       "      <td>0.074752</td>\n",
       "      <td>0.130548</td>\n",
       "      <td>0.292695</td>\n",
       "      <td>0.173844</td>\n",
       "      <td>0.238356</td>\n",
       "      <td>1.000000</td>\n",
       "    </tr>\n",
       "  </tbody>\n",
       "</table>\n",
       "</div>"
      ],
      "text/plain": [
       "               NumTimesPrg  PlGlcConc    BloodP  SkinThick  TwoHourSerIns  \\\n",
       "NumTimesPrg       1.000000   0.129459  0.141282  -0.081672      -0.073535   \n",
       "PlGlcConc         0.129459   1.000000  0.152590   0.057328       0.331357   \n",
       "BloodP            0.141282   0.152590  1.000000   0.207371       0.088933   \n",
       "SkinThick        -0.081672   0.057328  0.207371   1.000000       0.436783   \n",
       "TwoHourSerIns    -0.073535   0.331357  0.088933   0.436783       1.000000   \n",
       "BMI               0.017683   0.221071  0.281805   0.392573       0.197859   \n",
       "DiPedFunc        -0.033523   0.137337  0.041265   0.183928       0.185071   \n",
       "Age               0.544341   0.263514  0.239528  -0.113970      -0.042163   \n",
       "HasDiabetes       0.221898   0.466581  0.065068   0.074752       0.130548   \n",
       "\n",
       "                    BMI  DiPedFunc       Age  HasDiabetes  \n",
       "NumTimesPrg    0.017683  -0.033523  0.544341     0.221898  \n",
       "PlGlcConc      0.221071   0.137337  0.263514     0.466581  \n",
       "BloodP         0.281805   0.041265  0.239528     0.065068  \n",
       "SkinThick      0.392573   0.183928 -0.113970     0.074752  \n",
       "TwoHourSerIns  0.197859   0.185071 -0.042163     0.130548  \n",
       "BMI            1.000000   0.140647  0.036242     0.292695  \n",
       "DiPedFunc      0.140647   1.000000  0.033561     0.173844  \n",
       "Age            0.036242   0.033561  1.000000     0.238356  \n",
       "HasDiabetes    0.292695   0.173844  0.238356     1.000000  "
      ]
     },
     "execution_count": 3,
     "metadata": {},
     "output_type": "execute_result"
    }
   ],
   "source": [
    "pima_df.corr()"
   ]
  },
  {
   "cell_type": "markdown",
   "metadata": {
    "id": "Q0YpKuUBM1kb"
   },
   "source": [
    "### Task 3: Trực quan ma trận tương quan bằng heatmap trong seaborn."
   ]
  },
  {
   "cell_type": "code",
   "execution_count": 4,
   "metadata": {
    "id": "ll0POqtIM1kc"
   },
   "outputs": [
    {
     "data": {
      "text/plain": [
       "<Axes: >"
      ]
     },
     "execution_count": 4,
     "metadata": {},
     "output_type": "execute_result"
    },
    {
     "data": {
      "image/png": "[encoded data removed]",
      "text/plain": [
       "<Figure size 640x480 with 2 Axes>"
      ]
     },
     "metadata": {},
     "output_type": "display_data"
    }
   ],
   "source": [
    "sns.heatmap(pima_df.corr(), annot = True)\n"
   ]
  },
  {
   "cell_type": "markdown",
   "metadata": {
    "id": "gZ5Msu8UM1kg"
   },
   "source": [
    "## Trực quan hóa tập dữ liệu"
   ]
  },
  {
   "cell_type": "markdown",
   "metadata": {
    "id": "qvHkLsj_Kuv9"
   },
   "source": [
    "Trực quan hóa dữ liệu là một bước quan trọng của phân tích dữ liệu. Nhờ có trực quan hóa dữ liệu, chúng ta sẽ hiểu rõ hơn về các phân phối giá trị đặc trưng khác nhau: ví dụ: chúng ta nắm được độ tuổi trung bình của mọi người hoặc chỉ số BMI trung bình,...\n",
    "\n",
    "Tất nhiên, chúng ta có thể giới hạn việc xem xét hiển thị bảng, nhưng điều này cũng đồng nghĩa với việc chúng ta có thể sẽ bỏ lỡ những yếu tố quan trọng có thể ảnh hưởng đến độ chính xác của mô hình."
   ]
  },
  {
   "cell_type": "markdown",
   "metadata": {
    "id": "QsYiOSQNBjyN"
   },
   "source": [
    "### Task 4: Trực quan histogram với tất cả cột tập dữ liệu."
   ]
  },
  {
   "cell_type": "code",
   "execution_count": 5,
   "metadata": {
    "id": "JC3CILgxM1kh"
   },
   "outputs": [
    {
     "data": {
      "text/plain": [
       "<Figure size 1200x1000 with 0 Axes>"
      ]
     },
     "metadata": {},
     "output_type": "display_data"
    },
    {
     "data": {
      "image/png": "[encoded data removed]",
      "text/plain": [
       "<Figure size 640x480 with 9 Axes>"
      ]
     },
     "metadata": {},
     "output_type": "display_data"
    }
   ],
   "source": [
    "plt.figure(figsize= (12,10))\n",
    "pima_df.hist()\n",
    "plt.tight_layout()\n"
   ]
  },
  {
   "cell_type": "markdown",
   "metadata": {
    "button": false,
    "id": "VYSkabikM1kj",
    "new_sheet": false,
    "run_control": {
     "read_only": false
    }
   },
   "source": [
    "Tôi nhận thấy trong tập dữ liệu (điều này không rõ ràng ngay từ đầu) là thực tế một số người có giá trị null (không) cho một số đặc trưng: BMI hoặc huyết áp không hoàn toàn là 0.\n",
    "\n",
    "Làm thế nào để xử lý các giá trị tương tự? Hãy xem phần sau trong giai đoạn biến đổi dữ liệu."
   ]
  },
  {
   "cell_type": "markdown",
   "metadata": {
    "button": false,
    "id": "si5Fgks4M1kj",
    "new_sheet": false,
    "run_control": {
     "read_only": false
    }
   },
   "source": [
    "## Làm sạch và biến đổi dữ liệu"
   ]
  },
  {
   "cell_type": "markdown",
   "metadata": {
    "id": "mU2qrkkCKwyK"
   },
   "source": [
    "Từ phân tích trước, chúng ta đã nhận thấy một số bệnh nhân bị thiếu dữ liệu ở một số đặc trưng. Các thuật toán ML hoạt động không hiệu quả khi dữ liệu bị khuyết, vì vậy chúng ta phải tìm cách để \"làm sạch\" dữ liệu hiện có.\n",
    " \n",
    "Cách dễ nhất là loại bỏ tất cả những bệnh nhân có giá trị null/0, nhưng nếu làm theo cách này, chúng ta cũng sẽ loại bỏ rất nhiều dữ liệu quan trọng.\n",
    "\n",
    "Cách khác là thay thế giá trị null/0 bằng giá trị trung bình của cột dữ liệu đó. Hãy xem làm thế nào để áp dụng phương pháp thứ hai này."
   ]
  },
  {
   "cell_type": "markdown",
   "metadata": {
    "id": "X86RJDfMKCmj"
   },
   "source": [
    "### Task 5: Gán giá trị bị khuyết trên ['BMI', 'BloodP', 'PlGlcConc', 'SkinThick', 'TwoHourSerIns'] bằng giá trị trung vị hoặc bất kỳ cách nào khác có hiệu quả.\n",
    "\n",
    "Chúng tôi chưa chuyển đổi tất cả các cột vì một số giá trị có thể là 0 (như \"Số lần mang thai\")."
   ]
  },
  {
   "cell_type": "code",
   "execution_count": 6,
   "metadata": {
    "button": false,
    "id": "ccZyY2RbM1kk",
    "new_sheet": false,
    "run_control": {
     "read_only": false
    }
   },
   "outputs": [
    {
     "data": {
      "text/plain": [
       "NumTimesPrg      0\n",
       "PlGlcConc        0\n",
       "BloodP           0\n",
       "SkinThick        0\n",
       "TwoHourSerIns    0\n",
       "BMI              0\n",
       "DiPedFunc        0\n",
       "Age              0\n",
       "HasDiabetes      0\n",
       "dtype: int64"
      ]
     },
     "execution_count": 6,
     "metadata": {},
     "output_type": "execute_result"
    }
   ],
   "source": [
    "pima_df.isna().sum()\n"
   ]
  },
  {
   "cell_type": "markdown",
   "metadata": {
    "id": "-8h0P-vLM1kl"
   },
   "source": [
    "## Chuẩn hóa dữ liệu"
   ]
  },
  {
   "cell_type": "markdown",
   "metadata": {
    "id": "l6dcM1TpKzZD"
   },
   "source": [
    "Một trong những cách biến đổi dữ liệu quan trọng nhất mà chúng ta cần áp dụng là co giãn đặc trưng (feature scaling). Về cơ bản, hầu hết các thuật toán ML không hoạt động tốt nếu các đặc trưng có một bộ giá trị khác nhau. Ví dụ trong trường hợp của chúng ta, độ tuổi dao động từ 20 đến 80 tuổi, trong khi số lần bệnh nhân mang thai lại từ 0 đến 17 tuổi. Do đó, chúng ta cần áp dụng một phép biến đổi thích hợp."
   ]
  },
  {
   "cell_type": "markdown",
   "metadata": {
    "id": "Puwt6OQ-Bp3m"
   },
   "source": [
    "### Task 6: Thực hiện co giãn dữ liệu thành giá trị trung bình bằng 0 và phương sai bằng 1.\n",
    "\n",
    "Lưu ý: Chỉ áp dụng với các đặc trưng, không áp dụng với mục tiêu."
   ]
  },
  {
   "cell_type": "code",
   "execution_count": 7,
   "metadata": {
    "id": "S22D1f6QM1km"
   },
   "outputs": [
    {
     "data": {
      "text/plain": [
       "array([[ 0.63994726,  0.84832379,  0.14964075,  0.90726993, -0.69289057,\n",
       "         0.20401277,  0.46849198,  1.4259954 ],\n",
       "       [-0.84488505, -1.12339636, -0.16054575,  0.53090156, -0.69289057,\n",
       "        -0.68442195, -0.36506078, -0.19067191],\n",
       "       [ 1.23388019,  1.94372388, -0.26394125, -1.28821221, -0.69289057,\n",
       "        -1.10325546,  0.60439732, -0.10558415],\n",
       "       [-0.84488505, -0.99820778, -0.16054575,  0.15453319,  0.12330164,\n",
       "        -0.49404308, -0.92076261, -1.04154944],\n",
       "       [-1.14185152,  0.5040552 , -1.50468724,  0.90726993,  0.76583594,\n",
       "         1.4097456 ,  5.4849091 , -0.0204964 ]])"
      ]
     },
     "execution_count": 7,
     "metadata": {},
     "output_type": "execute_result"
    }
   ],
   "source": [
    "from sklearn.preprocessing import StandardScaler\n",
    "\n",
    "# thiếu Standard Scaler()\n",
    "X = pima_df.drop(columns= ['HasDiabetes'])\n",
    "X = StandardScaler().fit_transform(X)\n",
    "Y = pima_df['HasDiabetes']\n",
    "X[0:5]\n",
    "\n"
   ]
  },
  {
   "cell_type": "code",
   "execution_count": 8,
   "metadata": {},
   "outputs": [
    {
     "data": {
      "text/plain": [
       "0    1\n",
       "1    0\n",
       "2    1\n",
       "3    0\n",
       "4    1\n",
       "Name: HasDiabetes, dtype: int64"
      ]
     },
     "execution_count": 8,
     "metadata": {},
     "output_type": "execute_result"
    }
   ],
   "source": [
    "Y.head()"
   ]
  },
  {
   "cell_type": "markdown",
   "metadata": {
    "button": false,
    "id": "oOHQu_2rM1ko",
    "new_sheet": false,
    "run_control": {
     "read_only": false
    }
   },
   "source": [
    "## Phân tách dữ liệu"
   ]
  },
  {
   "cell_type": "markdown",
   "metadata": {
    "id": "Wd1-qKnJK1It"
   },
   "source": [
    "Bây giờ dữ liệu đã được chuyển đổi, chúng ta cần chia tập dữ liệu thành hai phần: tập dữ liệu huấn luyện và tập dữ liệu kiểm tra. Phân tách tập dữ liệu là một bước rất quan trọng đối với các mô hình học máy có giám sát. Về cơ bản, chúng ta sẽ sử dụng phần đầu tiên để huấn luyện mô hình (bỏ qua cột có nhãn được gán trước), sau đó sử dụng mô hình đã huấn luyện để đưa ra dự đoán về dữ liệu mới (là tập dữ liệu kiểm tra, không phải là một phần của tập huấn luyện) và so sánh giá trị dự đoán với nhãn đã được chỉ định."
   ]
  },
  {
   "cell_type": "markdown",
   "metadata": {
    "id": "teWZ9Hn0BsQL"
   },
   "source": [
    "### Task 7: Tách tập dữ liệu train/test data\n",
    "\n",
    "- test site = 20%\n",
    "- random_state=7."
   ]
  },
  {
   "cell_type": "code",
   "execution_count": 9,
   "metadata": {
    "id": "Xfh4QK1oM1kp"
   },
   "outputs": [
    {
     "name": "stdout",
     "output_type": "stream",
     "text": [
      "(614, 8) (614,)\n",
      "(154, 8) (154,)\n"
     ]
    }
   ],
   "source": [
    "from sklearn.model_selection import train_test_split\n",
    "X_train, X_test, Y_train, Y_test = train_test_split(X,Y,test_size=0.2,random_state=7)\n",
    "print(X_train.shape,Y_train.shape)\n",
    "print(X_test.shape,Y_test.shape)"
   ]
  },
  {
   "cell_type": "markdown",
   "metadata": {
    "id": "Yk3Y6qVtM1kq"
   },
   "source": [
    "**Câu hỏi: Tại sao chúng ta nên thực hiện chuẩn hóa và phân tách dữ liệu trước bước huấn luyện?**"
   ]
  },
  {
   "cell_type": "markdown",
   "metadata": {
    "id": "2yXSkeUjM1kr"
   },
   "source": [
    "#### Đáp án: Đảm bảo dữ liệu đã lọc bớt nhiễu và có thể đưa ra kết quả tốt hơn khi train model"
   ]
  },
  {
   "cell_type": "markdown",
   "metadata": {
    "id": "6PaVBEAwM1ks"
   },
   "source": [
    "### Task 8: In ra tỷ lệ dương tính trên tổng số phụ nữ mắc bệnh tiểu đường trong tập dữ liệu đầy đủ, tập huấn luyện và tập kiểm tra."
   ]
  },
  {
   "cell_type": "code",
   "execution_count": 10,
   "metadata": {
    "id": "36nXnB7cM1ku"
   },
   "outputs": [],
   "source": [
    "diabetes = (pima_df['HasDiabetes'] == 1).sum()\n",
    "diabetes_train = (Y_train == 1).sum()\n",
    "diabetes_test = (Y_test == 1).sum()\n",
    "diabetes_sum = len(pima_df['HasDiabetes'])"
   ]
  },
  {
   "cell_type": "code",
   "execution_count": 11,
   "metadata": {},
   "outputs": [
    {
     "name": "stdout",
     "output_type": "stream",
     "text": [
      "268\n",
      "211\n",
      "57\n",
      "768\n"
     ]
    }
   ],
   "source": [
    "print(diabetes)\n",
    "print(diabetes_train)\n",
    "print(diabetes_test)\n",
    "print(diabetes_sum)"
   ]
  },
  {
   "cell_type": "code",
   "execution_count": 12,
   "metadata": {},
   "outputs": [
    {
     "name": "stdout",
     "output_type": "stream",
     "text": [
      "Diabetes rates in pima_df:  34.896\n",
      "Diabetes rates in test set:  7.422\n",
      "Diabetes rates in train set:  27.474\n"
     ]
    }
   ],
   "source": [
    "print(\"Diabetes rates in pima_df: \", np.round(diabetes/diabetes_sum * 100,3))\n",
    "print(\"Diabetes rates in test set: \", np.round(diabetes_test/diabetes_sum * 100,3))\n",
    "print(\"Diabetes rates in train set: \", np.round(diabetes_train/diabetes_sum * 100,3))"
   ]
  },
  {
   "cell_type": "markdown",
   "metadata": {
    "button": false,
    "id": "KHXGaCazM1k0",
    "new_sheet": false,
    "run_control": {
     "read_only": false
    }
   },
   "source": [
    "# Phân loại "
   ]
  },
  {
   "cell_type": "markdown",
   "metadata": {
    "button": false,
    "id": "Q-NwUyDVM1k0",
    "new_sheet": false,
    "run_control": {
     "read_only": false
    }
   },
   "source": [
    "Giờ đến lượt bạn rồi, hãy sử dụng tập huấn luyện để xây dựng một mô hình chính xác, sau đó sử dụng tập kiểm tra để báo lại độ chính xác của mô hình.\n",
    "\n",
    "Bạn nên sử dụng các thuật toán sau:\n",
    "- K Nearest Neighbor(KNN)\n",
    "- Decision Tree\n",
    "- Support Vector Machine\n",
    "- Logistic Regression\n",
    "- Neural Network\n",
    "- Soft voting\n",
    "- Hard voting\n",
    "\n",
    "\n",
    "\n",
    "**__ Lưu ý:__**\n",
    "\n",
    "- Bạn phải cố gắng **TINH CHỈNH ÍT NHẤT 3 SIÊU THAM SỐ** trên mỗi thuật toán, ngoại trừ soft voting và hard voting.\n",
    "- Bạn có thể lên phía trên notebook và thay đổi quá trình tiền xử lý, lựa chọn đặc trưng, trích xuất đặc trưng,... để tạo ra mô hình tốt hơn.\n",
    "- Bạn nên sử dụng thư viện scikit-learn, Scipy hoặc Numpy để phát triển các thuật toán phân loại.\n",
    "- Bạn nên bao gồm code của thuật toán trong các cell sau."
   ]
  },
  {
   "cell_type": "markdown",
   "metadata": {
    "id": "c8HKeDu9M1k1"
   },
   "source": [
    "## Import các phép đo đánh giá"
   ]
  },
  {
   "cell_type": "code",
   "execution_count": 13,
   "metadata": {
    "id": "sZrg6rrsM1k1"
   },
   "outputs": [],
   "source": [
    "from sklearn.metrics import jaccard_score, f1_score"
   ]
  },
  {
   "cell_type": "code",
   "execution_count": 14,
   "metadata": {
    "id": "TBXdCSP-M1k3"
   },
   "outputs": [],
   "source": [
    "# Dictionary để giữ tất cả score của bộ phân loại\n",
    "f1_scores = {'train':{'KNN': 0, 'DT': 0, 'SVM': 0, 'LR': 0, 'NN': 0, 'EN_HARD': 0, 'EN_SOFT': 0},\n",
    "             'test':{'KNN': 0, 'DT': 0, 'SVM': 0, 'LR': 0, 'NN': 0, 'EN_HARD': 0, 'EN_SOFT': 0}}\n",
    "jaccard_scores = {'train':{'KNN': 0, 'DT': 0, 'SVM': 0, 'LR': 0, 'NN': 0, 'EN_HARD': 0, 'EN_SOFT': 0}, \n",
    "                  'test':{'KNN': 0, 'DT': 0, 'SVM': 0, 'LR': 0, 'NN': 0, 'EN_HARD': 0, 'EN_SOFT': 0}}\n"
   ]
  },
  {
   "cell_type": "markdown",
   "metadata": {
    "id": "54H_TZFAK83W"
   },
   "source": [
    "## Task 9: K Nearest Neighbor(KNN)\n",
    "\n",
    "Tinh chỉnh siêu tham số để có được mô hình KNN với độ chính xác tốt nhất. \n",
    "\n",
    "In ra các giá trị siêu tham số của mô hình KNN với độ chính xác tốt nhất. \n",
    "\n",
    "Đưa ra dự đoán từ dữ liệu huấn luyện và kiếm tra trên mô hình KNN. \n",
    "\n",
    "Tính f1 score và Jaccard score rồi lưu vào f1_scores dict và jaccard_scores dict.\n",
    "\n",
    "Yêu cầu:\n",
    "\n",
    "- Số lượng siêu tham số tối thiểu: 3\n",
    "\n",
    "- Số lượng giá trị siêu tham số tối đa trong một lần tìm kiếm: 20\n",
    "\n",
    "- Sử dụng GridSearchCV trong sklearn.model_selection.\n",
    "\n",
    "- Không nên sử dụng dữ liệu kiểm tra để tìm ra các tham số tốt nhất.\n",
    "\n",
    "- F1 score trên dữ liệu kiểm tra phải cao hơn **0.6**, Jaccard score phải cao hơn **0.4**."
   ]
  },
  {
   "cell_type": "code",
   "execution_count": 15,
   "metadata": {
    "id": "WpD6yCUlM1k7"
   },
   "outputs": [],
   "source": [
    "from sklearn.neighbors import KNeighborsClassifier\n",
    "from sklearn.model_selection import GridSearchCV\n",
    "from sklearn import metrics"
   ]
  },
  {
   "cell_type": "code",
   "execution_count": 16,
   "metadata": {
    "id": "Xw2vbHFKM1k9"
   },
   "outputs": [],
   "source": [
    "def gird_cv(estimator, estimator_name, params, X_train, X_test, y_train, y_test, f1_scores,jaccard_scores, print_results = True):\n",
    "    clf = GridSearchCV(estimator,params)\n",
    "    clf.fit(X_train,y_train)\n",
    "    print(\"best parameters(s): \")\n",
    "    print(clf.best_params_)\n",
    "    print(\"========\")\n",
    "    for i,x,y in zip(['train','test'],[X_train,X_test],[y_train,y_test]):\n",
    "        f1_scores[i][estimator_name] = f1_score(y,clf.predict(x))\n",
    "        jaccard_scores[i][estimator_name] = jaccard_score(y,clf.predict(x))\n",
    "    \n",
    "    if(print_results):\n",
    "        print(\"F1 score in train set : \", f1_scores['train'][estimator_name])\n",
    "        print(\"F1 score in test set : \", f1_scores['test'][estimator_name])\n",
    "        print(\"======\")\n",
    "        print('Jaccard score in train set : ',jaccard_scores['train'][estimator_name])\n",
    "        print('Jaccard score in test set : ',jaccard_scores['test'][estimator_name])\n",
    "    return f1_scores,jaccard_scores"
   ]
  },
  {
   "cell_type": "code",
   "execution_count": 17,
   "metadata": {},
   "outputs": [
    {
     "name": "stdout",
     "output_type": "stream",
     "text": [
      "best parameters(s): \n",
      "{'n_neighbors': 19, 'p': 1, 'weights': 'uniform'}\n",
      "========\n",
      "F1 score in train set :  0.6123595505617977\n",
      "F1 score in test set :  0.6938775510204082\n",
      "======\n",
      "Jaccard score in train set :  0.44129554655870445\n",
      "Jaccard score in test set :  0.53125\n"
     ]
    }
   ],
   "source": [
    "knn = KNeighborsClassifier()\n",
    "knn_params = {\n",
    "    'n_neighbors' : np.arange(3,20),\n",
    "    'weights': ['uniform','distance'],\n",
    "    'p': [1,2],\n",
    "}\n",
    "f1_scores,jaccard_scores =gird_cv(knn,'KNN',knn_params,X_train,X_test,Y_train,Y_test,f1_scores,jaccard_scores)"
   ]
  },
  {
   "cell_type": "markdown",
   "metadata": {
    "id": "QLvhv6JrM1lA"
   },
   "source": [
    "**Câu hỏi: Diễn giải các tham số bạn đã chọn để tinh chỉnh trong thuật toán KNN.**"
   ]
  },
  {
   "cell_type": "markdown",
   "metadata": {
    "id": "qaJt1GeEM1lA"
   },
   "source": [
    "### Trả lời: \n",
    "### 'n_neighbors': 19 -> lấy 19 neighbors gần nhất,\n",
    "### p = 1 -> sử dụng cách đo khoảng cách Manhattan, 2: độ đo euclid\n",
    "### 'weights': 'uniform' -> tất cả cả điểm dữ liệu được đánh trọng số nhu nhau"
   ]
  },
  {
   "cell_type": "markdown",
   "metadata": {
    "id": "rmN0gHsGPn8A"
   },
   "source": [
    "## Task 10: Decision Tree\n",
    "\n",
    "Tinh chỉnh siêu tham số để có được mô hình DT với độ chính xác tốt nhất. \n",
    "\n",
    "In ra các giá trị siêu tham số của mô hình DT với độ chính xác tốt nhất.\n",
    "\n",
    "Đưa ra dự đoán từ dữ liệu huấn luyện và kiếm tra trên mô hình DT. \n",
    "\n",
    "Tính f1 score và Jaccard score rồi lưu vào f1_scores dict và jaccard_scores dict.\n",
    "\n",
    "Yêu cầu:\n",
    "\n",
    "- Số lượng siêu tham số tối thiểu: 3\n",
    "\n",
    "- Số lượng giá trị siêu tham số tối đa trong một lần tìm kiếm: 20\n",
    "\n",
    "- Sử dụng GridSearchCV trong sklearn.model_selection.\n",
    "\n",
    "- Không nên sử dụng dữ liệu kiểm tra để tìm ra các tham số tốt nhất.\n",
    "\n",
    "- F1 score trên dữ liệu kiểm tra phải cao hơn **0.6**, Jaccard score phải cao hơn **0.4**."
   ]
  },
  {
   "cell_type": "code",
   "execution_count": 18,
   "metadata": {
    "id": "CnE8pvjvM1lG"
   },
   "outputs": [],
   "source": [
    "from sklearn import tree"
   ]
  },
  {
   "cell_type": "code",
   "execution_count": 20,
   "metadata": {
    "id": "RPdHH2HiM1lI"
   },
   "outputs": [
    {
     "name": "stdout",
     "output_type": "stream",
     "text": [
      "best parameters(s): \n",
      "{'criterion': 'entropy', 'max_depth': 3}\n",
      "========\n",
      "F1 score in train set :  0.6276595744680852\n",
      "F1 score in test set :  0.6464646464646465\n",
      "======\n",
      "Jaccard score in train set :  0.4573643410852713\n",
      "Jaccard score in test set :  0.47761194029850745\n"
     ]
    }
   ],
   "source": [
    "dt = tree.DecisionTreeClassifier()\n",
    "dt_params = {\n",
    "    'criterion': ['entropy','log_loss'],\n",
    "    #'splitter' : ['best'],\n",
    "    'max_depth' : [3,4,5,6]\n",
    "}\n",
    "\n",
    "f1_scores,jaccard_scores = gird_cv(dt,'DT',dt_params,X_train,X_test,Y_train,Y_test,f1_scores,jaccard_scores)"
   ]
  },
  {
   "cell_type": "markdown",
   "metadata": {
    "id": "0ZjQch2RM1lL"
   },
   "source": [
    "**Câu hỏi: Diễn giải các tham số bạn đã chọn để tinh chỉnh trong thuật toán DT.**"
   ]
  },
  {
   "cell_type": "markdown",
   "metadata": {
    "id": "g4aBT64WM1lL"
   },
   "source": [
    "Đáp án:"
   ]
  },
  {
   "cell_type": "markdown",
   "metadata": {
    "id": "nd4a59C6M1lQ"
   },
   "source": [
    "#### 'criterion': cây DT được xây dựng theo tiêu chí 'entropy' hay 'log-loss'\n",
    "#### 'splitter': chọn cách phân chia ở mỗi node\n",
    "#### 'max_depth': tùy chọn độ sâu cho cây DT"
   ]
  },
  {
   "cell_type": "markdown",
   "metadata": {
    "id": "DwO5te8nQAEJ"
   },
   "source": [
    "## Task 11: Support Vector Machine\n",
    "\n",
    "Tinh chỉnh siêu tham số để có được mô hình SVM với độ chính xác tốt nhất. \n",
    "\n",
    "In ra các giá trị siêu tham số của mô hình SVM với độ chính xác tốt nhất.\n",
    "\n",
    "Đưa ra dự đoán từ dữ liệu huấn luyện và kiếm tra trên mô hình SVM. \n",
    "\n",
    "Tính f1 score và Jaccard score rồi lưu vào f1_scores dict và jaccard_scores dict.\n",
    "\n",
    "Yêu cầu:\n",
    "\n",
    "- Số lượng siêu tham số tối thiểu: 3\n",
    "\n",
    "- Số lượng giá trị siêu tham số tối đa trong một lần tìm kiếm: 20\n",
    "\n",
    "- Sử dụng GridSearchCV trong sklearn.model_selection.\n",
    "\n",
    "- Không nên sử dụng dữ liệu kiểm tra để tìm ra các tham số tốt nhất.\n",
    "\n",
    "- F1 score trên dữ liệu kiểm tra phải cao hơn **0.6**, Jaccard score phải cao hơn **0.4**."
   ]
  },
  {
   "cell_type": "code",
   "execution_count": 21,
   "metadata": {
    "id": "WUwo79EMM1lR"
   },
   "outputs": [],
   "source": [
    "from sklearn.svm import SVC"
   ]
  },
  {
   "cell_type": "code",
   "execution_count": 22,
   "metadata": {
    "id": "JMxZtQa8M1lT"
   },
   "outputs": [
    {
     "name": "stdout",
     "output_type": "stream",
     "text": [
      "best parameters(s): \n",
      "{'C': 0.1, 'kernel': 'linear'}\n",
      "========\n",
      "F1 score in train set :  0.6353591160220995\n",
      "F1 score in test set :  0.6595744680851063\n",
      "======\n",
      "Jaccard score in train set :  0.46558704453441296\n",
      "Jaccard score in test set :  0.49206349206349204\n"
     ]
    }
   ],
   "source": [
    "svm = SVC()\n",
    "svm_params = {\n",
    "    'kernel': ['linear', 'poly', 'rbf', 'sigmoid'],\n",
    "    'C' : [0.01,0.1,0.2,0.4],\n",
    "}\n",
    "f1_scores,jaccard_scores = gird_cv(svm,'SVM',svm_params,X_train,X_test,Y_train,Y_test,f1_scores,jaccard_scores)\n",
    "\n"
   ]
  },
  {
   "cell_type": "markdown",
   "metadata": {
    "id": "03XgTdoPM1lW"
   },
   "source": [
    "**Câu hỏi: Diễn giải các tham số bạn đã chọn để tinh chỉnh trong thuật toán SVM.**"
   ]
  },
  {
   "cell_type": "markdown",
   "metadata": {
    "id": "wz0N8-CIM1lW"
   },
   "source": [
    "#### Đáp án:\n",
    "#### kernel : 4 loại hàm kernel \n",
    "#### C: tham số điều chuẩn, sử dụng điều chuẩn L2"
   ]
  },
  {
   "cell_type": "markdown",
   "metadata": {
    "id": "nTQkBQIXM1la"
   },
   "source": [
    "## Task 12: Logistic Regression\n",
    "\n",
    "Tinh chỉnh siêu tham số để có được mô hình LR với độ chính xác tốt nhất. \n",
    "\n",
    "In ra các giá trị siêu tham số của mô hình LR với độ chính xác tốt nhất.\n",
    "\n",
    "Đưa ra dự đoán từ dữ liệu huấn luyện và kiếm tra trên mô hình LR. \n",
    "\n",
    "Tính f1 score và Jaccard score rồi lưu vào f1_scores dict và jaccard_scores dict.\n",
    "\n",
    "Yêu cầu:\n",
    "\n",
    "- Số lượng siêu tham số tối thiểu: 3\n",
    "\n",
    "- Số lượng giá trị siêu tham số tối đa trong một lần tìm kiếm: 20\n",
    "\n",
    "- Sử dụng GridSearchCV trong sklearn.model_selection.\n",
    "\n",
    "- Không nên sử dụng dữ liệu kiểm tra để tìm ra các tham số tốt nhất.\n",
    "\n",
    "- F1 score trên dữ liệu kiểm tra phải cao hơn **0.6**, Jaccard score phải cao hơn **0.4**."
   ]
  },
  {
   "cell_type": "code",
   "execution_count": 29,
   "metadata": {
    "id": "cWFYayQLM1lb"
   },
   "outputs": [],
   "source": [
    "from sklearn.linear_model import LogisticRegression"
   ]
  },
  {
   "cell_type": "code",
   "execution_count": 30,
   "metadata": {
    "id": "7szXdAHTM1lc"
   },
   "outputs": [
    {
     "name": "stdout",
     "output_type": "stream",
     "text": [
      "best parameters(s): \n",
      "{'C': 0.4, 'l1_ratio': 0.6666, 'penalty': 'elasticnet', 'solver': 'saga'}\n",
      "========\n",
      "F1 score in train set :  0.6236559139784947\n",
      "F1 score in test set :  0.6597938144329897\n",
      "======\n",
      "Jaccard score in train set :  0.453125\n",
      "Jaccard score in test set :  0.49230769230769234\n"
     ]
    }
   ],
   "source": [
    "LR =  LogisticRegression()\n",
    "LR_params = {\n",
    "    'penalty': ['elasticnet'],\n",
    "    'solver': ['saga'],\n",
    "    'C': np.linspace(0.1,0.4,10),\n",
    "    'l1_ratio':[0.6666]\n",
    "}\n",
    "f1_scores,jaccard_scores = gird_cv(LR,'LR',LR_params,X_train,X_test,Y_train,Y_test,f1_scores,jaccard_scores)\n",
    "\n",
    "\n"
   ]
  },
  {
   "cell_type": "markdown",
   "metadata": {
    "id": "pfPytCDYM1le"
   },
   "source": [
    "**Câu hỏi: Diễn giải các tham số bạn đã chọn để tinh chỉnh trong thuật toán LR.**"
   ]
  },
  {
   "cell_type": "markdown",
   "metadata": {
    "id": "RmPs5O5RM1lf"
   },
   "source": [
    "#### Đáp án:\n",
    "#### penalty: dạng điều chuẩn ElasticNet (L1+L2)\n",
    "#### C : tham số điều chuẩn\n",
    "#### solver: thuật toán dùng để tối ưu\n",
    "#### l1_ratio: tỉ lệ tham số l1 khi sử dụng điều chuẩn ElasticNet còn lại là L2"
   ]
  },
  {
   "cell_type": "markdown",
   "metadata": {
    "id": "yrxU775odFQx"
   },
   "source": [
    "## Task 13: Neural Network\n",
    "\n",
    "Tinh chỉnh siêu tham số để có được mô hình NN với độ chính xác tốt nhất. \n",
    "\n",
    "In ra các giá trị siêu tham số của mô hình NN với độ chính xác tốt nhất.\n",
    "\n",
    "Đưa ra dự đoán từ dữ liệu huấn luyện và kiếm tra trên mô hình NN. \n",
    "\n",
    "Tính f1 score và Jaccard score rồi lưu vào f1_scores dict và jaccard_scores dict.\n",
    "\n",
    "Yêu cầu:\n",
    "\n",
    "- Số lượng siêu tham số tối thiểu: 3\n",
    "\n",
    "- Số lượng giá trị siêu tham số tối đa trong một lần tìm kiếm: 20\n",
    "\n",
    "- Sử dụng GridSearchCV trong sklearn.model_selection.\n",
    "\n",
    "- Không nên sử dụng dữ liệu kiểm tra để tìm ra các tham số tốt nhất.\n",
    "\n",
    "- F1 score trên dữ liệu kiểm tra phải cao hơn **0.6**, Jaccard score phải cao hơn **0.4**."
   ]
  },
  {
   "cell_type": "code",
   "execution_count": 33,
   "metadata": {
    "id": "-sFoZYw2dFQx"
   },
   "outputs": [],
   "source": [
    "from sklearn.neural_network import MLPClassifier"
   ]
  },
  {
   "cell_type": "code",
   "execution_count": 39,
   "metadata": {
    "id": "rqAn-L4ndFQx"
   },
   "outputs": [
    {
     "name": "stdout",
     "output_type": "stream",
     "text": [
      "best parameters(s): \n",
      "{'activation': 'relu', 'hidden_layer_sizes': (50, 30), 'shuffle': False, 'solver': 'sgd'}\n",
      "========\n",
      "F1 score in train set :  0.6543535620052771\n",
      "F1 score in test set :  0.7070707070707071\n",
      "======\n",
      "Jaccard score in train set :  0.48627450980392156\n",
      "Jaccard score in test set :  0.546875\n"
     ]
    }
   ],
   "source": [
    "NN = MLPClassifier(max_iter=(1500))\n",
    "NN_params = {\n",
    "    'hidden_layer_sizes': [(50,30),(30,40,35)],\n",
    "    'activation' : ['logistic', 'tanh', 'relu'],\n",
    "    'solver': ['sgd','adam'],\n",
    "    'shuffle' : [False]\n",
    "    \n",
    "}\n",
    "f1_scores, jaccard_scores = gird_cv(NN,'NN',NN_params,X_train,X_test,Y_train,Y_test,f1_scores,jaccard_scores)"
   ]
  },
  {
   "cell_type": "markdown",
   "metadata": {
    "id": "YRIEUAobdFQx"
   },
   "source": [
    "**Câu hỏi: Diễn giải các tham số bạn đã chọn để tinh chỉnh trong thuật toán NN.**"
   ]
  },
  {
   "cell_type": "markdown",
   "metadata": {
    "id": "DtICdIHwdFQx"
   },
   "source": [
    "#### hidden_layer_sizes: shape của hidden layer với số neuron từng layer\n",
    "#### activation: hàm kích hoạt (tanh, relu, regression)\n",
    "#### solver: tối ưu các siêu tham số alpha, beta1, beta2"
   ]
  },
  {
   "cell_type": "markdown",
   "metadata": {
    "id": "8-eteyNxM1lo"
   },
   "source": [
    "## Task 14: Soft Voting Ensemble \n",
    "\n",
    "Điều chỉnh trọng số trong Soft Voting Ensemble để đưa ra kết quả dự đoán tốt nhất.\n",
    "\n",
    "Đưa ra dự đoán từ dữ liệu huấn luyện và kiếm tra trên mô hình soft voting ensembling model. \n",
    "\n",
    "Tính f1 score và Jaccard score rồi lưu vào f1_scores dict và jaccard_scores dict.\n",
    "\n",
    "Yêu cầu:\n",
    "\n",
    "- Sử dụng 5 mô hình trên\n",
    "\n",
    "- Sử dụng cùng một thiết lập cho 5 mô hình như các bước trên.\n",
    "\n",
    "- F1 score trên dữ liệu kiểm tra phải lớn hơn **0.66**, Jaccard similarity score phải lớn hơn **0.5**."
   ]
  },
  {
   "cell_type": "code",
   "execution_count": 40,
   "metadata": {
    "id": "G7FfposgM1lp"
   },
   "outputs": [],
   "source": [
    "from sklearn.ensemble import VotingClassifier"
   ]
  },
  {
   "cell_type": "code",
   "execution_count": 41,
   "metadata": {
    "id": "J-EjCxe6M1ls"
   },
   "outputs": [],
   "source": [
    "estimators = []\n",
    "estimators.append(('LR',LogisticRegression(solver='lbfgs',penalty='l2',fit_intercept=False)))\n",
    "estimators.append(('SVC',SVC(kernel='rbf',degree=3,probability=True)))\n",
    "estimators.append(('DT',tree.DecisionTreeClassifier()))\n",
    "estimators.append(('KNN',KNeighborsClassifier()))\n",
    "\n",
    "\n"
   ]
  },
  {
   "cell_type": "code",
   "execution_count": 42,
   "metadata": {},
   "outputs": [
    {
     "name": "stdout",
     "output_type": "stream",
     "text": [
      "F1 score test:  0.6851851851851852\n",
      "Jaccard score test:  0.5211267605633803\n",
      "F1 score train:  0.9174757281553398\n",
      "Jaccard score train:  0.8475336322869955\n"
     ]
    }
   ],
   "source": [
    "EN_SOFT = VotingClassifier(estimators=estimators,voting='soft')\n",
    "EN_SOFT.fit(X_train,Y_train)\n",
    "EN_HARD_params = {\n",
    "    # 'estimators': estimators,\n",
    "    'voting': ['soft'],\n",
    "    \n",
    "}\n",
    "\n",
    "f1_scores['train']['EN_SOFT'] = f1_score(Y_train,EN_SOFT.predict(X_train))\n",
    "f1_scores['test']['EN_SOFT'] = f1_score(Y_test,EN_SOFT.predict(X_test))\n",
    "jaccard_scores['train']['EN_SOFT'] = jaccard_score(Y_train,EN_SOFT.predict(X_train))\n",
    "jaccard_scores['test']['EN_SOFT'] = jaccard_score(Y_test,EN_SOFT.predict(X_test))\n",
    "\n",
    "print(\"F1 score test: \", f1_score(Y_test,EN_SOFT.predict(X_test)))\n",
    "print(\"Jaccard score test: \", jaccard_score(Y_test,EN_SOFT.predict(X_test)))\n",
    "print(\"F1 score train: \", f1_score(Y_train,EN_SOFT.predict(X_train)))\n",
    "print(\"Jaccard score train: \", jaccard_score(Y_train,EN_SOFT.predict(X_train)))"
   ]
  },
  {
   "cell_type": "code",
   "execution_count": null,
   "metadata": {},
   "outputs": [],
   "source": []
  },
  {
   "cell_type": "markdown",
   "metadata": {
    "id": "d9vVirtTM1lw"
   },
   "source": [
    "## Task 15: Hard Voting Ensemble \n",
    "\n",
    "Điều chỉnh trọng số trong Hard Voting Ensemble để đưa ra kết quả dự đoán tốt nhất.\n",
    "\n",
    "Đưa ra dự đoán từ dữ liệu huấn luyện và kiếm tra trên mô hình hard voting ensembling model. \n",
    "\n",
    "Tính f1 score và Jaccard score rồi lưu vào f1_scores dict và jaccard_scores dict.\n",
    "\n",
    "Yêu cầu:\n",
    "\n",
    "- Sử dụng 5 mô hình trên\n",
    "\n",
    "- Sử dụng cùng một thiết lập cho 5 mô hình như các bước trên.\n",
    "\n",
    "- F1 score trên dữ liệu kiểm tra phải lớn hơn **0.57**, Jaccard similarity score phải lớn hơn **0.45**."
   ]
  },
  {
   "cell_type": "code",
   "execution_count": 43,
   "metadata": {
    "id": "0n-qRxd5M1lx"
   },
   "outputs": [
    {
     "name": "stdout",
     "output_type": "stream",
     "text": [
      "F1 score test:  0.6851851851851852\n",
      "Jaccard score test:  0.5211267605633803\n",
      "F1 score train:  0.9174757281553398\n",
      "Jaccard score train:  0.8475336322869955\n"
     ]
    }
   ],
   "source": [
    "EN_HARD = VotingClassifier(estimators=estimators,voting='hard')\n",
    "EN_HARD.fit(X_train,Y_train)\n",
    "EN_HARD_params = {\n",
    "    # 'estimators': estimators,\n",
    "    'voting': ['hard'],\n",
    "    \n",
    "}\n",
    "\n",
    "f1_scores['train']['EN_HARD'] = f1_score(Y_train,EN_SOFT.predict(X_train))\n",
    "f1_scores['test']['EN_HARD'] = f1_score(Y_test,EN_SOFT.predict(X_test))\n",
    "jaccard_scores['train']['EN_HARD'] = jaccard_score(Y_train,EN_SOFT.predict(X_train))\n",
    "jaccard_scores['test']['EN_HARD'] = jaccard_score(Y_test,EN_SOFT.predict(X_test))\n",
    "\n",
    "print(\"F1 score test: \", f1_score(Y_test,EN_SOFT.predict(X_test)))\n",
    "print(\"Jaccard score test: \", jaccard_score(Y_test,EN_SOFT.predict(X_test)))\n",
    "print(\"F1 score train: \", f1_score(Y_train,EN_SOFT.predict(X_train)))\n",
    "print(\"Jaccard score train: \", jaccard_score(Y_train,EN_SOFT.predict(X_train)))\n",
    "\n"
   ]
  },
  {
   "cell_type": "code",
   "execution_count": 44,
   "metadata": {},
   "outputs": [
    {
     "data": {
      "text/html": [
       "<div>\n",
       "<style scoped>\n",
       "    .dataframe tbody tr th:only-of-type {\n",
       "        vertical-align: middle;\n",
       "    }\n",
       "\n",
       "    .dataframe tbody tr th {\n",
       "        vertical-align: top;\n",
       "    }\n",
       "\n",
       "    .dataframe thead th {\n",
       "        text-align: right;\n",
       "    }\n",
       "</style>\n",
       "<table border=\"1\" class=\"dataframe\">\n",
       "  <thead>\n",
       "    <tr style=\"text-align: right;\">\n",
       "      <th></th>\n",
       "      <th>train</th>\n",
       "      <th>test</th>\n",
       "    </tr>\n",
       "  </thead>\n",
       "  <tbody>\n",
       "    <tr>\n",
       "      <th>KNN</th>\n",
       "      <td>0.612360</td>\n",
       "      <td>0.693878</td>\n",
       "    </tr>\n",
       "    <tr>\n",
       "      <th>DT</th>\n",
       "      <td>0.627660</td>\n",
       "      <td>0.646465</td>\n",
       "    </tr>\n",
       "    <tr>\n",
       "      <th>SVM</th>\n",
       "      <td>0.635359</td>\n",
       "      <td>0.659574</td>\n",
       "    </tr>\n",
       "    <tr>\n",
       "      <th>LR</th>\n",
       "      <td>0.623656</td>\n",
       "      <td>0.659794</td>\n",
       "    </tr>\n",
       "    <tr>\n",
       "      <th>NN</th>\n",
       "      <td>0.654354</td>\n",
       "      <td>0.707071</td>\n",
       "    </tr>\n",
       "    <tr>\n",
       "      <th>EN_HARD</th>\n",
       "      <td>0.917476</td>\n",
       "      <td>0.685185</td>\n",
       "    </tr>\n",
       "    <tr>\n",
       "      <th>EN_SOFT</th>\n",
       "      <td>0.917476</td>\n",
       "      <td>0.685185</td>\n",
       "    </tr>\n",
       "  </tbody>\n",
       "</table>\n",
       "</div>"
      ],
      "text/plain": [
       "            train      test\n",
       "KNN      0.612360  0.693878\n",
       "DT       0.627660  0.646465\n",
       "SVM      0.635359  0.659574\n",
       "LR       0.623656  0.659794\n",
       "NN       0.654354  0.707071\n",
       "EN_HARD  0.917476  0.685185\n",
       "EN_SOFT  0.917476  0.685185"
      ]
     },
     "execution_count": 44,
     "metadata": {},
     "output_type": "execute_result"
    }
   ],
   "source": [
    "df_f1 = pd.DataFrame(f1_scores)\n",
    "df_f1"
   ]
  },
  {
   "cell_type": "markdown",
   "metadata": {
    "id": "RmteU8YeM1l3"
   },
   "source": [
    "# Báo cáo\n",
    "Bạn có thể tường thuật độ chính xác của mô hình đã xây bằng cách sử dụng các phép đo đánh giá khác nhau:"
   ]
  },
  {
   "cell_type": "markdown",
   "metadata": {
    "id": "c3q0IThKM1l3"
   },
   "source": [
    "| Algorithm | Jaccard-training | F1-score-training |Jaccard-testing | F1-score-testing |\n",
    "|-----------|------------------|-------------------|----------------|------------------|\n",
    "| KNN | ? | ? |  ? |  ? |\n",
    "| Decision Tree | ? | ? |  ? |  ? |\n",
    "| SVM | ? | ? |  ? |  ? |\n",
    "| Logistic Regression| ? | ? |  ? |  ? |   \n",
    "| Neural Network| ? | ? |  ? |  ? |\n",
    "| Hard Voting | ? | ? |  ? |  ? |\n",
    "| Soft Voting | ? | ? |  ? |  ? |\n"
   ]
  },
  {
   "cell_type": "markdown",
   "metadata": {
    "id": "PpqjW-eOM1l3"
   },
   "source": [
    "## Task 16: Tạo data frame mô tả kết quả chính xác như trên."
   ]
  },
  {
   "cell_type": "code",
   "execution_count": 45,
   "metadata": {
    "id": "pI3_EsgtM1l4"
   },
   "outputs": [
    {
     "data": {
      "text/html": [
       "<div>\n",
       "<style scoped>\n",
       "    .dataframe tbody tr th:only-of-type {\n",
       "        vertical-align: middle;\n",
       "    }\n",
       "\n",
       "    .dataframe tbody tr th {\n",
       "        vertical-align: top;\n",
       "    }\n",
       "\n",
       "    .dataframe thead th {\n",
       "        text-align: right;\n",
       "    }\n",
       "</style>\n",
       "<table border=\"1\" class=\"dataframe\">\n",
       "  <thead>\n",
       "    <tr style=\"text-align: right;\">\n",
       "      <th></th>\n",
       "      <th>Jaccard-training</th>\n",
       "      <th>F1-score-training</th>\n",
       "      <th>Jaccard-testing</th>\n",
       "      <th>F1-score-testing</th>\n",
       "    </tr>\n",
       "  </thead>\n",
       "  <tbody>\n",
       "    <tr>\n",
       "      <th>KNN</th>\n",
       "      <td>0.441296</td>\n",
       "      <td>0.612360</td>\n",
       "      <td>0.531250</td>\n",
       "      <td>0.693878</td>\n",
       "    </tr>\n",
       "    <tr>\n",
       "      <th>DT</th>\n",
       "      <td>0.457364</td>\n",
       "      <td>0.627660</td>\n",
       "      <td>0.477612</td>\n",
       "      <td>0.646465</td>\n",
       "    </tr>\n",
       "    <tr>\n",
       "      <th>SVM</th>\n",
       "      <td>0.465587</td>\n",
       "      <td>0.635359</td>\n",
       "      <td>0.492063</td>\n",
       "      <td>0.659574</td>\n",
       "    </tr>\n",
       "    <tr>\n",
       "      <th>LR</th>\n",
       "      <td>0.453125</td>\n",
       "      <td>0.623656</td>\n",
       "      <td>0.492308</td>\n",
       "      <td>0.659794</td>\n",
       "    </tr>\n",
       "    <tr>\n",
       "      <th>NN</th>\n",
       "      <td>0.486275</td>\n",
       "      <td>0.654354</td>\n",
       "      <td>0.546875</td>\n",
       "      <td>0.707071</td>\n",
       "    </tr>\n",
       "    <tr>\n",
       "      <th>EN_HARD</th>\n",
       "      <td>0.847534</td>\n",
       "      <td>0.917476</td>\n",
       "      <td>0.521127</td>\n",
       "      <td>0.685185</td>\n",
       "    </tr>\n",
       "    <tr>\n",
       "      <th>EN_SOFT</th>\n",
       "      <td>0.847534</td>\n",
       "      <td>0.917476</td>\n",
       "      <td>0.521127</td>\n",
       "      <td>0.685185</td>\n",
       "    </tr>\n",
       "  </tbody>\n",
       "</table>\n",
       "</div>"
      ],
      "text/plain": [
       "         Jaccard-training  F1-score-training  Jaccard-testing  \\\n",
       "KNN              0.441296           0.612360         0.531250   \n",
       "DT               0.457364           0.627660         0.477612   \n",
       "SVM              0.465587           0.635359         0.492063   \n",
       "LR               0.453125           0.623656         0.492308   \n",
       "NN               0.486275           0.654354         0.546875   \n",
       "EN_HARD          0.847534           0.917476         0.521127   \n",
       "EN_SOFT          0.847534           0.917476         0.521127   \n",
       "\n",
       "         F1-score-testing  \n",
       "KNN              0.693878  \n",
       "DT               0.646465  \n",
       "SVM              0.659574  \n",
       "LR               0.659794  \n",
       "NN               0.707071  \n",
       "EN_HARD          0.685185  \n",
       "EN_SOFT          0.685185  "
      ]
     },
     "execution_count": 45,
     "metadata": {},
     "output_type": "execute_result"
    }
   ],
   "source": [
    "df_f1 = pd.DataFrame(f1_scores)\n",
    "df_jaccard = pd.DataFrame(jaccard_scores)\n",
    "df_resulst = pd.concat([df_jaccard['train'],df_f1['train'],df_jaccard['test'],df_f1['test']],axis =1)\n",
    "columns = ['Jaccard-training','F1-score-training','Jaccard-testing','F1-score-testing']\n",
    "df_resulst.columns = columns\n",
    "df_resulst"
   ]
  },
  {
   "cell_type": "markdown",
   "metadata": {
    "id": "TYifTRP7M1l5"
   },
   "source": [
    "**Câu hỏi: Có phải các phương pháp ensemble luôn tốt hơn một mô hình đơn lẻ không? Nếu không, hãy giải thích tại sao?**"
   ]
  },
  {
   "cell_type": "markdown",
   "metadata": {
    "id": "450BrJ44M1l6"
   },
   "source": [
    "Trả lời:Không phải lúc nào ensemble luôn tốt hơn một mô hình đơn lẻ vi việc học quá kĩ dữ liệu với nhiều mô hình khác nhau của phương pháp ensemble có thể dẫn đến overfit, dữ liệu train quá ít cũng dẫn đến overfiting\n"
   ]
  },
  {
   "cell_type": "code",
   "execution_count": null,
   "metadata": {},
   "outputs": [],
   "source": []
  }
 ],
 "metadata": {
  "colab": {
   "collapsed_sections": [],
   "name": "Asm_2.ipynb",
   "provenance": []
  },
  "kernelspec": {
   "display_name": "Python 3 (ipykernel)",
   "language": "python",
   "name": "python3"
  },
  "language_info": {
   "codemirror_mode": {
    "name": "ipython",
    "version": 3
   },
   "file_extension": ".py",
   "mimetype": "text/x-python",
   "name": "python",
   "nbconvert_exporter": "python",
   "pygments_lexer": "ipython3",
   "version": "3.11.4"
  }
 },
 "nbformat": 4,
 "nbformat_minor": 1
}
